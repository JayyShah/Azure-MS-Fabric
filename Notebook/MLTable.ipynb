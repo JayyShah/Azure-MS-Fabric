{
  "nbformat": 4,
  "nbformat_minor": 0,
  "metadata": {
    "colab": {
      "provenance": []
    },
    "kernelspec": {
      "name": "python3",
      "display_name": "Python 3"
    },
    "language_info": {
      "name": "python"
    }
  },
  "cells": [
    {
      "cell_type": "markdown",
      "source": [
        "# Contents Covered\n",
        "- Read mltable in a job\n",
        "- Register an mltable as a data asset in Azure Machine Learning\n",
        "- Consume registered mltable assets in a job"
      ],
      "metadata": {
        "id": "Tbw5SQBXmDEx"
      }
    },
    {
      "cell_type": "code",
      "execution_count": null,
      "metadata": {
        "id": "Sf5BIm8hl6yV"
      },
      "outputs": [],
      "source": [
        "# Pre-requisites\n",
        "\n",
        "!pip uninstall azure-ai-ml\n",
        "!pip install --pre azure-ai-ml\n",
        "!pip uninstall mltable\n",
        "!pip install --pre mltable\n",
        "!pip install pandas"
      ]
    },
    {
      "cell_type": "markdown",
      "source": [
        "## Connect to Azure Machine Learning Workspace"
      ],
      "metadata": {
        "id": "wCxC74sQrq29"
      }
    },
    {
      "cell_type": "code",
      "source": [
        "from azure.ai.ml import MLClient\n",
        "from azure.identity import DefaultAzureCredential\n",
        "\n",
        "# Enter details of your AML workspace\n",
        "subscription_id = \"<SUBSCRIPTION_ID>\"\n",
        "resource_group = \"<RESOURCE_GROUP>\"\n",
        "workspace = \"<AML_WORKSPACE_NAME>\"\n",
        "\n",
        "# get a handle to the workspace\n",
        "ml_client = MLClient(\n",
        "    DefaultAzureCredential(), subscription_id, resource_group, workspace\n",
        ")"
      ],
      "metadata": {
        "id": "TM-uPf1Vrrh9"
      },
      "execution_count": null,
      "outputs": []
    },
    {
      "cell_type": "markdown",
      "source": [
        "## MLTable definition file from local data path"
      ],
      "metadata": {
        "id": "I1ISnfxBru2f"
      }
    },
    {
      "cell_type": "code",
      "source": [
        "!cat ./sample_data/MLTable"
      ],
      "metadata": {
        "id": "evZunqY0rvlk"
      },
      "execution_count": null,
      "outputs": []
    },
    {
      "cell_type": "code",
      "source": [
        "import mltable\n",
        "\n",
        "tbl = mltable.load(\"./sample_data\")\n",
        "df = tbl.to_pandas_dataframe()\n",
        "df.head(5)"
      ],
      "metadata": {
        "id": "WHbWPZH9rxad"
      },
      "execution_count": null,
      "outputs": []
    },
    {
      "cell_type": "markdown",
      "source": [
        "## MLTable definition file from datastore uri path\n",
        "\n",
        "1. get datastore uri path from registered data asset with uri_file type\n",
        "2. construct mltable yaml with the datastore uri path and load it to pandas dataframe\n",
        "\n",
        "- Get datastore uri path from registered data asset with uri_file type"
      ],
      "metadata": {
        "id": "aKm-aGMCr2js"
      }
    },
    {
      "cell_type": "code",
      "source": [
        "# get datastore uri from local data path\n",
        "from azure.ai.ml.entities import Data\n",
        "from azure.ai.ml.constants import AssetTypes\n",
        "\n",
        "my_parquet_data = Data(\n",
        "    path=\"./sample_data/data.parquet\",\n",
        "    type=AssetTypes.URI_FILE,\n",
        "    description=\"Parquet data\",\n",
        "    name=\"v2_parquet_urifile\",\n",
        ")\n",
        "\n",
        "my_parquet_data = ml_client.data.create_or_update(my_parquet_data)\n",
        "print(my_parquet_data.path)"
      ],
      "metadata": {
        "id": "Ixa65Pxmr95m"
      },
      "execution_count": null,
      "outputs": []
    },
    {
      "cell_type": "markdown",
      "source": [
        "-Construct MLTable definition file from the datastore uri path(taking parquet file data source as example) and load it into pandas"
      ],
      "metadata": {
        "id": "9oL9YAxTsB0m"
      }
    },
    {
      "cell_type": "code",
      "source": [
        "# helper function to create MLTable datastore uri path for parquet file\n",
        "# uri_path is the datastore uri path in the format of long form datastore uri format: azureml://subscriptions/<sub-id>/resourcegroups/<resource-group>/workspaces/<workspace>/datastores/{datastore_name}/paths/{relative_data_path}\n",
        "# mltable_folder is where to save the MLTable yaml\n",
        "def mltable_from_parquet(uri_path, mltable_folder):\n",
        "    import yaml\n",
        "    import mltable\n",
        "\n",
        "    # MLTable yaml dictionary\n",
        "    mltable_from_parquet = {\n",
        "        \"paths\": [{\"file\": f\"{uri_path}\"}],\n",
        "        \"transformations\": [\"read_parquet\"],\n",
        "    }\n",
        "\n",
        "    temp_dir = tempfile.gettempdir()\n",
        "    with open(f\"{mltable_folder}/MLTable\", \"w\") as mltable_yaml:\n",
        "        yaml.dump(mltable_from_parquet, mltable_yaml, default_flow_style=False)\n",
        "\n",
        "    return mltable.load(mltable_folder)"
      ],
      "metadata": {
        "id": "n6iKrWpmsCt_"
      },
      "execution_count": null,
      "outputs": []
    },
    {
      "cell_type": "code",
      "source": [
        "import tempfile\n",
        "\n",
        "temp_dir = tempfile.gettempdir()\n",
        "\n",
        "# get datastore uri path from the registered asset\n",
        "# save MLTable file to temp folder\n",
        "mlt = mltable_from_parquet(my_parquet_data.path, temp_dir)\n",
        "mlt.to_pandas_dataframe()"
      ],
      "metadata": {
        "id": "BEHXsXFXsFpz"
      },
      "execution_count": null,
      "outputs": []
    },
    {
      "cell_type": "markdown",
      "source": [
        "## Reading mltable in a job"
      ],
      "metadata": {
        "id": "A5i13DR3sIAx"
      }
    },
    {
      "cell_type": "code",
      "source": [
        "# read_mltable.py\n",
        "import argparse\n",
        "import mltable\n",
        "import pandas\n",
        "\n",
        "parser = argparse.ArgumentParser()\n",
        "parser.add_argument(\"--input_data\", type=str)\n",
        "args = parser.parse_args()\n",
        "\n",
        "tbl = mltable.load(args.input_data)\n",
        "df = tbl.to_pandas_dataframe()\n",
        "print(df.head(10))"
      ],
      "metadata": {
        "id": "N6I-EyRDsJWw"
      },
      "execution_count": null,
      "outputs": []
    },
    {
      "cell_type": "code",
      "source": [
        "from azure.ai.ml import Input, command\n",
        "from azure.ai.ml.entities import Data, Environment\n",
        "from azure.ai.ml.constants import AssetTypes\n",
        "\n",
        "env = Environment(\n",
        "    image=\"mcr.microsoft.com/azureml/openmpi4.1.0-ubuntu20.04\",\n",
        "    conda_file=\"environments/mltable_environment.yaml\",\n",
        ")\n",
        "\n",
        "my_job_inputs = {\"input_data\": Input(type=AssetTypes.MLTABLE, path=\"./sample_data\")}\n",
        "\n",
        "job = command(\n",
        "    code=\"./src\",  # local path where the code is stored\n",
        "    command=\"python read_mltable.py --input_data ${{inputs.input_data}}\",\n",
        "    inputs=my_job_inputs,\n",
        "    environment=env,\n",
        "    compute=\"cpu-cluster\",\n",
        ")\n",
        "\n",
        "# submit the command job\n",
        "returned_job = ml_client.jobs.create_or_update(job)\n",
        "# get a URL for the status of the job\n",
        "returned_job.studio_url"
      ],
      "metadata": {
        "id": "eWBig-lvsMFY"
      },
      "execution_count": null,
      "outputs": []
    },
    {
      "cell_type": "markdown",
      "source": [
        "## Registering an mltable as an asset in Azure Machine Learning\n",
        "\n",
        "- You can register an mltable as a data asset in Azure Machine Learning. The benefits of registering data are:\n",
        "\n",
        "  - Easy to share with other members of the team (no need to remember file locations)\n",
        "  - Versioning of the metadata (location, description, etc)"
      ],
      "metadata": {
        "id": "FdPR4XzFsV2M"
      }
    },
    {
      "cell_type": "code",
      "source": [
        "from azure.ai.ml.entities import Data\n",
        "from azure.ai.ml.constants import AssetTypes\n",
        "\n",
        "my_data = Data(\n",
        "    path=\"./sample_data\",\n",
        "    type=AssetTypes.MLTABLE,\n",
        "    description=\"Titanic Data\",\n",
        "    name=\"titanic-mltable-example\",\n",
        ")\n",
        "\n",
        "my_mltable = ml_client.data.create_or_update(my_data)\n",
        "mltable_version = my_mltable.version\n",
        "print(mltable_version)"
      ],
      "metadata": {
        "id": "HriEOe0-sePr"
      },
      "execution_count": null,
      "outputs": []
    },
    {
      "cell_type": "markdown",
      "source": [
        "## Consume data assets in an Azure Machine Learning Job"
      ],
      "metadata": {
        "id": "lTWrzdAYsjga"
      }
    },
    {
      "cell_type": "code",
      "source": [
        "from azure.ai.ml import Input, command\n",
        "from azure.ai.ml.entities import Data, Environment\n",
        "from azure.ai.ml.constants import AssetTypes\n",
        "\n",
        "env = Environment(\n",
        "    image=\"mcr.microsoft.com/azureml/openmpi4.1.0-ubuntu20.04\",\n",
        "    conda_file=\"environments/mltable_environment.yaml\",\n",
        ")\n",
        "\n",
        "registered_data_asset = ml_client.data.get(\n",
        "    name=\"titanic-mltable-example\", version=mltable_version\n",
        ")\n",
        "\n",
        "my_job_inputs = {\"input_data\": Input(path=registered_data_asset.id)}\n",
        "\n",
        "job = command(\n",
        "    code=\"./src\",\n",
        "    command=\"python read_mltable.py --input_data ${{inputs.input_data}}\",\n",
        "    inputs=my_job_inputs,\n",
        "    environment=env,\n",
        "    compute=\"cpu-cluster\",\n",
        ")\n",
        "\n",
        "# submit the command job\n",
        "returned_job = ml_client.create_or_update(job)\n",
        "# get a URL for the status of the job\n",
        "returned_job.studio_url"
      ],
      "metadata": {
        "id": "pvcvcYGrspg0"
      },
      "execution_count": null,
      "outputs": []
    }
  ]
}