{
  "nbformat": 4,
  "nbformat_minor": 0,
  "metadata": {
    "colab": {
      "provenance": []
    },
    "kernelspec": {
      "name": "python3",
      "display_name": "Python 3"
    },
    "language_info": {
      "name": "python"
    }
  },
  "cells": [
    {
      "cell_type": "markdown",
      "source": [
        "  - Create a model from a local file\n",
        "  - Create a model from an mlflow model\n",
        "  - Create a model from cloud path\n",
        "  - Create a model from a run\n",
        "  - Read/write model in a job"
      ],
      "metadata": {
        "id": "GB75qTBHcoud"
      }
    },
    {
      "cell_type": "markdown",
      "source": [
        "## Connect to Azure Machine Learning Workspace"
      ],
      "metadata": {
        "id": "aCZ7GFgMc0Ax"
      }
    },
    {
      "cell_type": "code",
      "execution_count": null,
      "metadata": {
        "id": "9eEjqHpYcWi1"
      },
      "outputs": [],
      "source": [
        "# Import the required libraries\n",
        "\n",
        "%pip install azure.ai.ml --extra-index-url  https://azuremlsdktestpypi.azureedge.net/sdk-cli-v2\n",
        "\n",
        "# import required libraries\n",
        "from azure.ai.ml import MLClient\n",
        "from azure.ai.ml.entities import Model\n",
        "from azure.identity import DefaultAzureCredential\n",
        "from azure.ai.ml.constants import AssetTypes"
      ]
    },
    {
      "cell_type": "markdown",
      "source": [
        "## Configure workspace details and get a handle to the workspace"
      ],
      "metadata": {
        "id": "hzf3cshrc9T5"
      }
    },
    {
      "cell_type": "code",
      "source": [
        "# Enter details of your AML workspace\n",
        "subscription_id = \"<SUBSCRIPTION_ID>\"\n",
        "resource_group = \"<RESOURCE_GROUP>\"\n",
        "workspace = \"<AML_WORKSPACE_NAME>\""
      ],
      "metadata": {
        "id": "W-bZue6Ac93x"
      },
      "execution_count": null,
      "outputs": []
    },
    {
      "cell_type": "code",
      "source": [
        "from azure.ai.ml import MLClient\n",
        "from azure.identity import DefaultAzureCredential\n",
        "\n",
        "# get a handle to the workspace\n",
        "ml_client = MLClient(\n",
        "    DefaultAzureCredential(), subscription_id, resource_group, workspace\n",
        ")"
      ],
      "metadata": {
        "id": "df7JJPQsdBot"
      },
      "execution_count": null,
      "outputs": []
    },
    {
      "cell_type": "markdown",
      "source": [
        "## Create a model"
      ],
      "metadata": {
        "id": "PfEfifs8dEMI"
      }
    },
    {
      "cell_type": "markdown",
      "source": [
        "- Azure ML models consist of the binary file(s) that represent a machine learning model and any corresponding metadata. Models can be created from a local file or directory. The created model will be tracked in the workspace under the specified name and version.\n",
        "\n",
        "- The Model class can be used to create a model. It accepts the following key parameters:\n",
        "\n",
        "  - `name` - Name of the model.\n",
        "\n",
        "  - `version` - Version of the model. If omitted, Azure ML will autogenerate a version.\n",
        "\n",
        "  - `path` - Local path to the model file(s). This can point to either a file or a directory.\n",
        "\n",
        "  - `type` - Storage format of the model. Applicable for no-code deployment scenarios. Allowed values are custom_model, mlflow_model, triton_model\n",
        "\n",
        "  - `description` - Description of the model."
      ],
      "metadata": {
        "id": "TVf1rrmLdJul"
      }
    },
    {
      "cell_type": "markdown",
      "source": [
        "# Create a model from a local file"
      ],
      "metadata": {
        "id": "A3tGiwf3dlER"
      }
    },
    {
      "cell_type": "markdown",
      "source": [
        "- Create a model from a local pkl file and specify the type of the model to be custom_model. The model is initialized with the required parameters. It is then created in the Azure Machine Learning workspace using the MLClient."
      ],
      "metadata": {
        "id": "dBlmYr2jdqfZ"
      }
    },
    {
      "cell_type": "code",
      "source": [
        "from azure.ai.ml.entities import Model\n",
        "from azure.ai.ml.constants import AssetTypes\n",
        "\n",
        "file_model = Model(\n",
        "    path=\"mlflow-model/model.pkl\",\n",
        "    type=AssetTypes.CUSTOM_MODEL,\n",
        "    name=\"local-file-example\",\n",
        "    description=\"Model created from local file.\",\n",
        ")\n",
        "ml_client.models.create_or_update(file_model)"
      ],
      "metadata": {
        "id": "9LZ0BKB0dFfv"
      },
      "execution_count": null,
      "outputs": []
    },
    {
      "cell_type": "markdown",
      "source": [
        "## Create a model from an mlflow model"
      ],
      "metadata": {
        "id": "dgl7AhC_dv8h"
      }
    },
    {
      "cell_type": "markdown",
      "source": [
        "- Create a model from a local folder, specifying the type of the model to be mlflow_model. The model is initialized with the required parameters. It is then created in the Azure Machine Learning workspace using the MLClient."
      ],
      "metadata": {
        "id": "0weRnVv1dzcI"
      }
    },
    {
      "cell_type": "code",
      "source": [
        "from azure.ai.ml.entities import Model\n",
        "from azure.ai.ml.constants import AssetTypes\n",
        "\n",
        "mlflow_model = Model(\n",
        "    path=\"mlflow-model\",\n",
        "    type=AssetTypes.MLFLOW_MODEL,\n",
        "    name=\"local-mlflow-example\",\n",
        "    description=\"MLflow model created from local path\",\n",
        ")\n",
        "ml_client.create_or_update(mlflow_model)"
      ],
      "metadata": {
        "id": "mKxtgXZmdufN"
      },
      "execution_count": null,
      "outputs": []
    },
    {
      "cell_type": "markdown",
      "source": [
        "## Create a model from cloud path\n",
        "\n",
        "-  Create a model from a cloud path, specifying the format of the model to be custom_model. The model is initialized with the required parameters. It is then created in the Azure Machine Learning workspace using the MLClient."
      ],
      "metadata": {
        "id": "znFS7lfxd9IN"
      }
    },
    {
      "cell_type": "code",
      "source": [
        "from azure.ai.ml.entities import Model\n",
        "from azure.ai.ml.constants import AssetTypes\n",
        "\n",
        "cloud_model = Model(\n",
        "    path=file_model.path,\n",
        "    # The above line basically provides a path in the format \"azureml://subscriptions/XXXXXXXXXXXXXXXX/resourceGroups/XXXXXXXXXXX/workspaces/XXXXXXXXXXX/datastores/workspaceblobstore/paths/model.pkl\"\n",
        "    # Users could also use,\"azureml://datastores/workspaceblobstore/paths/model.pkl\" as a shorthand to the same location\n",
        "    name=\"cloud-path-example\",\n",
        "    type=AssetTypes.CUSTOM_MODEL,\n",
        "    description=\"Model created from cloud path.\",\n",
        ")\n",
        "ml_client.models.create_or_update(cloud_model)"
      ],
      "metadata": {
        "id": "N-dMxNgteFym"
      },
      "execution_count": null,
      "outputs": []
    },
    {
      "cell_type": "markdown",
      "source": [
        "##  Create a model from a run\n",
        "\n",
        "- Create a model from a run, specifying the type of the model to be mlflow_model. The model is initialized with the required parameters. It is then created in the Azure Machine Learning workspace using the MLClient."
      ],
      "metadata": {
        "id": "pxcxMl5zAV5S"
      }
    },
    {
      "cell_type": "code",
      "source": [
        "from azure.ai.ml.entities import Model\n",
        "from azure.ai.ml.constants import AssetTypes\n",
        "\n",
        "job_name = \"<JOB_NAME>\"\n",
        "\n",
        "run_model = Model(\n",
        "    path=f\"azureml://jobs/{job_name}/outputs/artifacts/paths/model/\",\n",
        "    name=\"run-model-example\",\n",
        "    description=\"Model created from run.\",\n",
        "    type=AssetTypes.MLFLOW_MODEL,\n",
        ")\n",
        "# Uncomment after adding required details above\n",
        "# ml_client.models.create_or_update(run_model)"
      ],
      "metadata": {
        "id": "rQc9BYyNAeJ4"
      },
      "execution_count": null,
      "outputs": []
    },
    {
      "cell_type": "markdown",
      "source": [
        "## Loading model as an input to a job\n",
        "\n",
        "- Using the MLflow model trained on the Iris Dataset - `(./mlflow-model) ` and set-up a command that executes the following python code, that loads the model, test data and scores the model:"
      ],
      "metadata": {
        "id": "PiG6RaU5Ai3k"
      }
    },
    {
      "cell_type": "code",
      "source": [
        "with open(args.input_data) as f:\n",
        "   sample_data = json.load(f)\n",
        "\n",
        "#columns = [\"sepal_length\",\"sepal_width\",\"petal_length\",\"petal_width\"]\n",
        "\n",
        "sk_model = mlflow.sklearn.load_model(args.input_model)\n",
        "predictions = sk_model.predict(sample_data[\"data\"])"
      ],
      "metadata": {
        "id": "7fwsktzHA179"
      },
      "execution_count": null,
      "outputs": []
    },
    {
      "cell_type": "code",
      "source": [
        "from azure.ai.ml import command\n",
        "from azure.ai.ml.entities import Model\n",
        "from azure.ai.ml.constants import AssetTypes\n",
        "from azure.ai.ml import Input, Output\n",
        "\n",
        "# === Note on path ===\n",
        "# can be can be a local path or a cloud path. AzureML supports `runs:/` and `azureml://` URIs.\n",
        "# Local paths are automatically uploaded to the default datastore in the cloud.\n",
        "# More details on supported paths: https://learn.microsoft.com/en-us/azure/machine-learning/how-to-manage-models?tabs=use-local#supported-paths\n",
        "\n",
        "inputs = {\n",
        "    \"input_data\": Input(\n",
        "        type=AssetTypes.URI_FILE, path=\"./mlflow-model/input_example.json\"\n",
        "    ),\n",
        "    \"input_model\": Input(type=AssetTypes.MLFLOW_MODEL, path=\"./mlflow-model\"),\n",
        "}\n",
        "\n",
        "outputs = {\n",
        "    \"output_folder\": Output(\n",
        "        type=AssetTypes.URI_FOLDER,\n",
        "        path=f\"azureml://subscriptions/{subscription_id}/resourcegroups/{resource_group}/workspaces/{workspace}/datastores/workspaceblobstore/paths/predictions\",\n",
        "    )\n",
        "}\n",
        "\n",
        "job = command(\n",
        "    code=\"./src\",  # local path where the code is stored\n",
        "    command=\"python load_score.py --input_model ${{inputs.input_model}} --input_data ${{inputs.input_data}} --output_folder ${{outputs.output_folder}}\",\n",
        "    inputs=inputs,\n",
        "    outputs=outputs,\n",
        "    environment=\"AzureML-sklearn-1.0-ubuntu20.04-py38-cpu:1\",\n",
        "    compute=\"cpu-cluster\",\n",
        ")\n",
        "\n",
        "# submit the command\n",
        "returned_job = ml_client.jobs.create_or_update(job)\n",
        "# get a URL for the status of the job\n",
        "returned_job.studio_url"
      ],
      "metadata": {
        "id": "STjXx1_fA72-"
      },
      "execution_count": null,
      "outputs": []
    },
    {
      "cell_type": "markdown",
      "source": [
        "## Reading and writing model in a job\n",
        "\n",
        "- You cannot write to Inputs only Outputs. The code below creates an Output that will mount your AzureML default datastore `(Azure Blob)` in Read-Write mode. The python code simply loads the local mlflow model as input and exports the same model as an output of the job saved in the mounted datastore.\n",
        "\n",
        "```python\n",
        "sk_model = mlflow.sklearn.load_model(args.input_model)\n",
        "mlflow.sklearn.save_model(sk_model, args.output_folder)\n",
        "```"
      ],
      "metadata": {
        "id": "Y0atr4KQA9km"
      }
    },
    {
      "cell_type": "code",
      "source": [
        "from azure.ai.ml import command\n",
        "from azure.ai.ml.entities import Model\n",
        "from azure.ai.ml import Input, Output\n",
        "from azure.ai.ml.constants import AssetTypes\n",
        "\n",
        "inputs = {\"input_model\": Input(type=AssetTypes.MLFLOW_MODEL, path=\"./mlflow-model\")}\n",
        "\n",
        "outputs = {\"custom_model_output\": Output(type=AssetTypes.CUSTOM_MODEL)}\n",
        "\n",
        "job = command(\n",
        "    code=\"./src\",  # local path where the code is stored\n",
        "    command=\"python load_write_model.py --input_model ${{inputs.input_model}} --custom_model_output ${{outputs.custom_model_output}}\",\n",
        "    inputs=inputs,\n",
        "    outputs=outputs,\n",
        "    environment=\"AzureML-sklearn-1.0-ubuntu20.04-py38-cpu:1\",\n",
        "    compute=\"cpu-cluster\",\n",
        ")\n",
        "\n",
        "# submit the command\n",
        "returned_job = ml_client.create_or_update(job)\n",
        "# get a URL for the status of the job\n",
        "returned_job.studio_url"
      ],
      "metadata": {
        "id": "oU_JNnx9BJf0"
      },
      "execution_count": null,
      "outputs": []
    }
  ]
}