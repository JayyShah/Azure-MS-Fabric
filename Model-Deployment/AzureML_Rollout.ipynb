{
  "nbformat": 4,
  "nbformat_minor": 0,
  "metadata": {
    "colab": {
      "provenance": []
    },
    "kernelspec": {
      "name": "python3",
      "display_name": "Python 3"
    },
    "language_info": {
      "name": "python"
    }
  },
  "cells": [
    {
      "cell_type": "markdown",
      "source": [
        "# Introduction\n",
        "\n",
        "  - Deploy a new online endpoint called \"blue\" that serves version 1 of the model\n",
        "  - Scale this deployment so that it can handle more requests\n",
        "  - Deploy version 2 of the model to an endpoint called \"green\" that accepts no live traffic\n",
        "  - Test the green deployment in isolation\n",
        "  - Send 10% of live traffic to the green deployment\n",
        "  - Fully cut-over all live traffic to the green deployment"
      ],
      "metadata": {
        "id": "f4Qi65VhufYK"
      }
    },
    {
      "cell_type": "code",
      "execution_count": null,
      "metadata": {
        "id": "hGhUl14huNAW"
      },
      "outputs": [],
      "source": [
        "# import required libraries\n",
        "from azure.ai.ml import MLClient\n",
        "from azure.ai.ml.entities import (\n",
        "    ManagedOnlineEndpoint,\n",
        "    ManagedOnlineDeployment,\n",
        "    Model,\n",
        "    Environment,\n",
        "    CodeConfiguration,\n",
        ")\n",
        "from azure.identity import DefaultAzureCredential"
      ]
    },
    {
      "cell_type": "code",
      "source": [
        "# enter details of your AML workspace\n",
        "subscription_id = \"<SUBSCRIPTION_ID>\"\n",
        "resource_group = \"<RESOURCE_GROUP>\"\n",
        "workspace = \"<AML_WORKSPACE_NAME>\""
      ],
      "metadata": {
        "id": "2SAPC6eCusCy"
      },
      "execution_count": null,
      "outputs": []
    },
    {
      "cell_type": "code",
      "source": [
        "# get a handle to the workspace\n",
        "ml_client = MLClient(\n",
        "    DefaultAzureCredential(), subscription_id, resource_group, workspace\n",
        ")"
      ],
      "metadata": {
        "id": "RAp1g2XWutmy"
      },
      "execution_count": null,
      "outputs": []
    },
    {
      "cell_type": "markdown",
      "source": [
        "## Create an Endpoint"
      ],
      "metadata": {
        "id": "BmEmmysQuv_s"
      }
    },
    {
      "cell_type": "code",
      "source": [
        "# Creating a unique endpoint name with current datetime to avoid conflicts\n",
        "import random\n",
        "\n",
        "online_endpoint_name = \"endpt-moe-\" + str(random.randint(0, 10000))\n",
        "\n",
        "# create an online endpoint\n",
        "endpoint = ManagedOnlineEndpoint(\n",
        "    name=online_endpoint_name,\n",
        "    description=\"this is a sample online endpoint\",\n",
        "    auth_mode=\"key\",\n",
        "    tags={\"foo\": \"bar\"},\n",
        ")"
      ],
      "metadata": {
        "id": "GqP7RUH0uzCp"
      },
      "execution_count": null,
      "outputs": []
    },
    {
      "cell_type": "code",
      "source": [
        "ml_client.online_endpoints.begin_create_or_update(endpoint).result()"
      ],
      "metadata": {
        "id": "y83u5HJvu2wI"
      },
      "execution_count": null,
      "outputs": []
    },
    {
      "cell_type": "markdown",
      "source": [
        "## Create a Blue Deployment"
      ],
      "metadata": {
        "id": "5vqL0S5mu5OZ"
      }
    },
    {
      "cell_type": "code",
      "source": [
        "# create blue deployment\n",
        "model = Model(path=\"../model-1/model/sklearn_regression_model.pkl\")\n",
        "env = Environment(\n",
        "    conda_file=\"../model-1/environment/conda.yaml\",\n",
        "    image=\"mcr.microsoft.com/azureml/openmpi4.1.0-ubuntu20.04\",\n",
        ")\n",
        "\n",
        "blue_deployment = ManagedOnlineDeployment(\n",
        "    name=\"blue\",\n",
        "    endpoint_name=online_endpoint_name,\n",
        "    model=model,\n",
        "    environment=env,\n",
        "    code_configuration=CodeConfiguration(\n",
        "        code=\"../model-1/onlinescoring\", scoring_script=\"score.py\"\n",
        "    ),\n",
        "    instance_type=\"Standard_DS3_v2\",\n",
        "    instance_count=1,\n",
        ")"
      ],
      "metadata": {
        "id": "9v0cYoVEu7aL"
      },
      "execution_count": null,
      "outputs": []
    },
    {
      "cell_type": "markdown",
      "source": [
        "## Create the Deployment"
      ],
      "metadata": {
        "id": "SH9DnK-svBPB"
      }
    },
    {
      "cell_type": "code",
      "source": [
        "ml_client.online_deployments.begin_create_or_update(blue_deployment).result()"
      ],
      "metadata": {
        "id": "-flUM7qOvC2z"
      },
      "execution_count": null,
      "outputs": []
    },
    {
      "cell_type": "code",
      "source": [
        "# blue deployment takes 100 traffic\n",
        "endpoint.traffic = {\"blue\": 100}\n",
        "ml_client.online_endpoints.begin_create_or_update(endpoint).result()"
      ],
      "metadata": {
        "id": "6FGuGQ04vFkC"
      },
      "execution_count": null,
      "outputs": []
    },
    {
      "cell_type": "markdown",
      "source": [
        "## Test the endpoint with sample data"
      ],
      "metadata": {
        "id": "7LBoNskMvHb6"
      }
    },
    {
      "cell_type": "code",
      "source": [
        "# test the blue deployment with some sample data\n",
        "ml_client.online_endpoints.invoke(\n",
        "    endpoint_name=online_endpoint_name,\n",
        "    deployment_name=\"blue\",\n",
        "    request_file=\"../model-1/sample-request.json\",\n",
        ")"
      ],
      "metadata": {
        "id": "Zyz-wvNxvJqF"
      },
      "execution_count": null,
      "outputs": []
    },
    {
      "cell_type": "markdown",
      "source": [
        "## Scale the Deployment"
      ],
      "metadata": {
        "id": "bdPwoN01vMlY"
      }
    },
    {
      "cell_type": "code",
      "source": [
        "# scale the deployment\n",
        "blue_deployment = ml_client.online_deployments.get(\n",
        "    name=\"blue\", endpoint_name=online_endpoint_name\n",
        ")\n",
        "blue_deployment.instance_count = 2\n",
        "ml_client.online_deployments.begin_create_or_update(blue_deployment).result()"
      ],
      "metadata": {
        "id": "x5JGCcAuvN_G"
      },
      "execution_count": null,
      "outputs": []
    },
    {
      "cell_type": "markdown",
      "source": [
        "## Endpoint Details"
      ],
      "metadata": {
        "id": "psBewaTKvQIB"
      }
    },
    {
      "cell_type": "code",
      "source": [
        "# Get the details for online endpoint\n",
        "endpoint = ml_client.online_endpoints.get(name=online_endpoint_name)\n",
        "\n",
        "# existing traffic details\n",
        "print(endpoint.traffic)\n",
        "\n",
        "# Get the scoring URI\n",
        "print(endpoint.scoring_uri)"
      ],
      "metadata": {
        "id": "0hLV74ZMvRqO"
      },
      "execution_count": null,
      "outputs": []
    },
    {
      "cell_type": "markdown",
      "source": [
        "## Deploy a new model, without any traffic"
      ],
      "metadata": {
        "id": "_uu8rh5NvVXE"
      }
    },
    {
      "cell_type": "code",
      "source": [
        "# create green deployment\n",
        "model2 = Model(path=\"../model-2/model/sklearn_regression_model.pkl\")\n",
        "env2 = Environment(\n",
        "    conda_file=\"../model-2/environment/conda.yaml\",\n",
        "    image=\"mcr.microsoft.com/azureml/openmpi4.1.0-ubuntu20.04\",\n",
        ")\n",
        "\n",
        "green_deployment = ManagedOnlineDeployment(\n",
        "    name=\"green\",\n",
        "    endpoint_name=online_endpoint_name,\n",
        "    model=model2,\n",
        "    environment=env2,\n",
        "    code_configuration=CodeConfiguration(\n",
        "        code=\"../model-2/onlinescoring\", scoring_script=\"score.py\"\n",
        "    ),\n",
        "    instance_type=\"Standard_DS3_v2\",\n",
        "    instance_count=1,\n",
        ")"
      ],
      "metadata": {
        "id": "cZlcg6D6vZSX"
      },
      "execution_count": null,
      "outputs": []
    },
    {
      "cell_type": "markdown",
      "source": [
        "## Testing the New deployment"
      ],
      "metadata": {
        "id": "ue_NZ9djvb2w"
      }
    },
    {
      "cell_type": "code",
      "source": [
        "ml_client.online_endpoints.invoke(\n",
        "    endpoint_name=online_endpoint_name,\n",
        "    deployment_name=\"green\",\n",
        "    request_file=\"../model-2/sample-request.json\",\n",
        ")"
      ],
      "metadata": {
        "id": "yS1_x5l9veB3"
      },
      "execution_count": null,
      "outputs": []
    },
    {
      "cell_type": "markdown",
      "source": [
        "## Test the deployment with mirrored traffic"
      ],
      "metadata": {
        "id": "2tQ0a4RVvgd4"
      }
    },
    {
      "cell_type": "code",
      "source": [
        "endpoint.mirror_traffic = {\"green\": 10}\n",
        "ml_client.begin_create_or_update(endpoint).result()"
      ],
      "metadata": {
        "id": "SMC7_V8Gvji4"
      },
      "execution_count": null,
      "outputs": []
    },
    {
      "cell_type": "code",
      "source": [
        "# You can test mirror traffic by invoking the endpoint several times\n",
        "for i in range(20):\n",
        "    ml_client.online_endpoints.invoke(\n",
        "        endpoint_name=online_endpoint_name,\n",
        "        request_file=\"../model-1/sample-request.json\",\n",
        "    )"
      ],
      "metadata": {
        "id": "JWALdugtvlAz"
      },
      "execution_count": null,
      "outputs": []
    },
    {
      "cell_type": "code",
      "source": [
        "endpoint.mirror_traffic = {\"green\": 0}\n",
        "ml_client.begin_create_or_update(endpoint).result()"
      ],
      "metadata": {
        "id": "y4YxEgJ8vmTK"
      },
      "execution_count": null,
      "outputs": []
    },
    {
      "cell_type": "code",
      "source": [
        "endpoint.mirror_traffic = {\"green\": 0}\n",
        "ml_client.begin_create_or_update(endpoint).result()"
      ],
      "metadata": {
        "id": "q1F7seLivqlc"
      },
      "execution_count": null,
      "outputs": []
    },
    {
      "cell_type": "code",
      "source": [
        "endpoint.traffic = {\"blue\": 0, \"green\": 100}\n",
        "ml_client.begin_create_or_update(endpoint).result()"
      ],
      "metadata": {
        "id": "ntIvjOn6vsRm"
      },
      "execution_count": null,
      "outputs": []
    },
    {
      "cell_type": "markdown",
      "source": [
        "## Remove Old deployment"
      ],
      "metadata": {
        "id": "we2PQMrovthj"
      }
    },
    {
      "cell_type": "code",
      "source": [
        "ml_client.online_deployments.begin_delete(\n",
        "    name=\"blue\", endpoint_name=online_endpoint_name\n",
        ").wait()"
      ],
      "metadata": {
        "id": "00-Dp85LvvqC"
      },
      "execution_count": null,
      "outputs": []
    },
    {
      "cell_type": "markdown",
      "source": [
        "## Delete Endpoint"
      ],
      "metadata": {
        "id": "Ltgy8H98vyOa"
      }
    },
    {
      "cell_type": "code",
      "source": [
        "ml_client.online_endpoints.begin_delete(name=online_endpoint_name)"
      ],
      "metadata": {
        "id": "s6RG1bvjv0Ia"
      },
      "execution_count": null,
      "outputs": []
    }
  ]
}